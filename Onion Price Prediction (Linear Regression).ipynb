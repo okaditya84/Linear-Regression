{
 "cells": [
  {
   "cell_type": "code",
   "execution_count": 1,
   "id": "dd1a0ba2",
   "metadata": {},
   "outputs": [],
   "source": [
    "import numpy as np\n",
    "import pandas as pd\n",
    "import csv\n",
    "import matplotlib.pyplot as plt\n",
    "import seaborn as sns\n",
    "from sklearn.model_selection import train_test_split\n",
    "from sklearn.linear_model import LinearRegression"
   ]
  },
  {
   "cell_type": "code",
   "execution_count": 2,
   "id": "6581be4f",
   "metadata": {},
   "outputs": [
    {
     "data": {
      "text/html": [
       "<div>\n",
       "<style scoped>\n",
       "    .dataframe tbody tr th:only-of-type {\n",
       "        vertical-align: middle;\n",
       "    }\n",
       "\n",
       "    .dataframe tbody tr th {\n",
       "        vertical-align: top;\n",
       "    }\n",
       "\n",
       "    .dataframe thead th {\n",
       "        text-align: right;\n",
       "    }\n",
       "</style>\n",
       "<table border=\"1\" class=\"dataframe\">\n",
       "  <thead>\n",
       "    <tr style=\"text-align: right;\">\n",
       "      <th></th>\n",
       "      <th>state</th>\n",
       "      <th>district</th>\n",
       "      <th>market</th>\n",
       "      <th>commodity</th>\n",
       "      <th>variety</th>\n",
       "      <th>arrival_date</th>\n",
       "      <th>min_price</th>\n",
       "      <th>max_price</th>\n",
       "      <th>modal_price</th>\n",
       "    </tr>\n",
       "  </thead>\n",
       "  <tbody>\n",
       "    <tr>\n",
       "      <th>0</th>\n",
       "      <td>Andhra Pradesh</td>\n",
       "      <td>Kurnool</td>\n",
       "      <td>Kurnool</td>\n",
       "      <td>Onion</td>\n",
       "      <td>Local</td>\n",
       "      <td>03/01/2020</td>\n",
       "      <td>1350</td>\n",
       "      <td>4390</td>\n",
       "      <td>3100.0</td>\n",
       "    </tr>\n",
       "    <tr>\n",
       "      <th>1</th>\n",
       "      <td>Andhra Pradesh</td>\n",
       "      <td>Kurnool</td>\n",
       "      <td>Kurnool</td>\n",
       "      <td>Onion</td>\n",
       "      <td>Local</td>\n",
       "      <td>04/01/2020</td>\n",
       "      <td>1390</td>\n",
       "      <td>4400</td>\n",
       "      <td>3200.0</td>\n",
       "    </tr>\n",
       "    <tr>\n",
       "      <th>2</th>\n",
       "      <td>Andhra Pradesh</td>\n",
       "      <td>Kurnool</td>\n",
       "      <td>Kurnool</td>\n",
       "      <td>Onion</td>\n",
       "      <td>Local</td>\n",
       "      <td>06/01/2020</td>\n",
       "      <td>1460</td>\n",
       "      <td>5150</td>\n",
       "      <td>4310.0</td>\n",
       "    </tr>\n",
       "    <tr>\n",
       "      <th>3</th>\n",
       "      <td>Andhra Pradesh</td>\n",
       "      <td>Kurnool</td>\n",
       "      <td>Kurnool</td>\n",
       "      <td>Onion</td>\n",
       "      <td>Local</td>\n",
       "      <td>07/01/2020</td>\n",
       "      <td>2010</td>\n",
       "      <td>5200</td>\n",
       "      <td>4200.0</td>\n",
       "    </tr>\n",
       "    <tr>\n",
       "      <th>4</th>\n",
       "      <td>Andhra Pradesh</td>\n",
       "      <td>Kurnool</td>\n",
       "      <td>Kurnool</td>\n",
       "      <td>Onion</td>\n",
       "      <td>Local</td>\n",
       "      <td>10/01/2020</td>\n",
       "      <td>1320</td>\n",
       "      <td>4050</td>\n",
       "      <td>3300.0</td>\n",
       "    </tr>\n",
       "  </tbody>\n",
       "</table>\n",
       "</div>"
      ],
      "text/plain": [
       "            state district   market commodity variety arrival_date  min_price  \\\n",
       "0  Andhra Pradesh  Kurnool  Kurnool     Onion   Local   03/01/2020       1350   \n",
       "1  Andhra Pradesh  Kurnool  Kurnool     Onion   Local   04/01/2020       1390   \n",
       "2  Andhra Pradesh  Kurnool  Kurnool     Onion   Local   06/01/2020       1460   \n",
       "3  Andhra Pradesh  Kurnool  Kurnool     Onion   Local   07/01/2020       2010   \n",
       "4  Andhra Pradesh  Kurnool  Kurnool     Onion   Local   10/01/2020       1320   \n",
       "\n",
       "   max_price  modal_price  \n",
       "0       4390       3100.0  \n",
       "1       4400       3200.0  \n",
       "2       5150       4310.0  \n",
       "3       5200       4200.0  \n",
       "4       4050       3300.0  "
      ]
     },
     "execution_count": 2,
     "metadata": {},
     "output_type": "execute_result"
    }
   ],
   "source": [
    "df=pd.read_csv(\"OnionPrices2020.csv\")\n",
    "df.head()\n"
   ]
  },
  {
   "cell_type": "code",
   "execution_count": 3,
   "id": "43c1f0e2",
   "metadata": {},
   "outputs": [
    {
     "name": "stdout",
     "output_type": "stream",
     "text": [
      "state           0\n",
      "district        0\n",
      "market          0\n",
      "commodity       0\n",
      "variety         0\n",
      "arrival_date    0\n",
      "min_price       0\n",
      "max_price       0\n",
      "modal_price     0\n",
      "dtype: int64\n"
     ]
    }
   ],
   "source": [
    "nullvalues=df.isnull().sum()\n",
    "print(nullvalues)"
   ]
  },
  {
   "cell_type": "code",
   "execution_count": 4,
   "id": "14e1b684",
   "metadata": {},
   "outputs": [
    {
     "data": {
      "text/plain": [
       "(107295, 9)"
      ]
     },
     "execution_count": 4,
     "metadata": {},
     "output_type": "execute_result"
    }
   ],
   "source": [
    "df.shape"
   ]
  },
  {
   "cell_type": "code",
   "execution_count": 5,
   "id": "08ed8f41",
   "metadata": {},
   "outputs": [
    {
     "name": "stdout",
     "output_type": "stream",
     "text": [
      "<class 'pandas.core.frame.DataFrame'>\n",
      "RangeIndex: 107295 entries, 0 to 107294\n",
      "Data columns (total 9 columns):\n",
      " #   Column        Non-Null Count   Dtype  \n",
      "---  ------        --------------   -----  \n",
      " 0   state         107295 non-null  object \n",
      " 1   district      107295 non-null  object \n",
      " 2   market        107295 non-null  object \n",
      " 3   commodity     107295 non-null  object \n",
      " 4   variety       107295 non-null  object \n",
      " 5   arrival_date  107295 non-null  object \n",
      " 6   min_price     107295 non-null  int64  \n",
      " 7   max_price     107295 non-null  int64  \n",
      " 8   modal_price   107295 non-null  float64\n",
      "dtypes: float64(1), int64(2), object(6)\n",
      "memory usage: 7.4+ MB\n"
     ]
    }
   ],
   "source": [
    "df.info()"
   ]
  },
  {
   "cell_type": "code",
   "execution_count": 6,
   "id": "d268fba6",
   "metadata": {},
   "outputs": [
    {
     "data": {
      "text/plain": [
       "<AxesSubplot: xlabel='variety', ylabel='count'>"
      ]
     },
     "execution_count": 6,
     "metadata": {},
     "output_type": "execute_result"
    },
    {
     "data": {
      "image/png": "[encoded data removed]",
      "text/plain": [
       "<Figure size 640x480 with 1 Axes>"
      ]
     },
     "metadata": {},
     "output_type": "display_data"
    }
   ],
   "source": [
    "sns.countplot(x='variety',data=df)"
   ]
  },
  {
   "cell_type": "code",
   "execution_count": 7,
   "id": "7bd4a453",
   "metadata": {},
   "outputs": [
    {
     "data": {
      "text/plain": [
       "<AxesSubplot: xlabel='variety', ylabel='modal_price'>"
      ]
     },
     "execution_count": 7,
     "metadata": {},
     "output_type": "execute_result"
    },
    {
     "data": {
      "image/png": "[encoded data removed]",
      "text/plain": [
       "<Figure size 640x480 with 1 Axes>"
      ]
     },
     "metadata": {},
     "output_type": "display_data"
    }
   ],
   "source": [
    "sns.barplot(x='variety',y='modal_price',data=df)"
   ]
  },
  {
   "cell_type": "code",
   "execution_count": 8,
   "id": "67157dcf",
   "metadata": {},
   "outputs": [
    {
     "data": {
      "text/html": [
       "<div>\n",
       "<style scoped>\n",
       "    .dataframe tbody tr th:only-of-type {\n",
       "        vertical-align: middle;\n",
       "    }\n",
       "\n",
       "    .dataframe tbody tr th {\n",
       "        vertical-align: top;\n",
       "    }\n",
       "\n",
       "    .dataframe thead th {\n",
       "        text-align: right;\n",
       "    }\n",
       "</style>\n",
       "<table border=\"1\" class=\"dataframe\">\n",
       "  <thead>\n",
       "    <tr style=\"text-align: right;\">\n",
       "      <th></th>\n",
       "      <th>min_price</th>\n",
       "      <th>max_price</th>\n",
       "      <th>modal_price</th>\n",
       "      <th>state_Andhra Pradesh</th>\n",
       "      <th>state_Chattisgarh</th>\n",
       "      <th>state_Goa</th>\n",
       "      <th>state_Gujarat</th>\n",
       "      <th>state_Haryana</th>\n",
       "      <th>state_Himachal Pradesh</th>\n",
       "      <th>state_Jammu and Kashmir</th>\n",
       "      <th>...</th>\n",
       "      <th>arrival_date_30/04/2020</th>\n",
       "      <th>arrival_date_30/05/2020</th>\n",
       "      <th>arrival_date_30/06/2020</th>\n",
       "      <th>arrival_date_30/07/2020</th>\n",
       "      <th>arrival_date_30/08/2020</th>\n",
       "      <th>arrival_date_31/01/2020</th>\n",
       "      <th>arrival_date_31/03/2020</th>\n",
       "      <th>arrival_date_31/05/2020</th>\n",
       "      <th>arrival_date_31/07/2020</th>\n",
       "      <th>arrival_date_31/08/2020</th>\n",
       "    </tr>\n",
       "  </thead>\n",
       "  <tbody>\n",
       "    <tr>\n",
       "      <th>0</th>\n",
       "      <td>1350</td>\n",
       "      <td>4390</td>\n",
       "      <td>3100.0</td>\n",
       "      <td>1</td>\n",
       "      <td>0</td>\n",
       "      <td>0</td>\n",
       "      <td>0</td>\n",
       "      <td>0</td>\n",
       "      <td>0</td>\n",
       "      <td>0</td>\n",
       "      <td>...</td>\n",
       "      <td>0</td>\n",
       "      <td>0</td>\n",
       "      <td>0</td>\n",
       "      <td>0</td>\n",
       "      <td>0</td>\n",
       "      <td>0</td>\n",
       "      <td>0</td>\n",
       "      <td>0</td>\n",
       "      <td>0</td>\n",
       "      <td>0</td>\n",
       "    </tr>\n",
       "    <tr>\n",
       "      <th>1</th>\n",
       "      <td>1390</td>\n",
       "      <td>4400</td>\n",
       "      <td>3200.0</td>\n",
       "      <td>1</td>\n",
       "      <td>0</td>\n",
       "      <td>0</td>\n",
       "      <td>0</td>\n",
       "      <td>0</td>\n",
       "      <td>0</td>\n",
       "      <td>0</td>\n",
       "      <td>...</td>\n",
       "      <td>0</td>\n",
       "      <td>0</td>\n",
       "      <td>0</td>\n",
       "      <td>0</td>\n",
       "      <td>0</td>\n",
       "      <td>0</td>\n",
       "      <td>0</td>\n",
       "      <td>0</td>\n",
       "      <td>0</td>\n",
       "      <td>0</td>\n",
       "    </tr>\n",
       "    <tr>\n",
       "      <th>2</th>\n",
       "      <td>1460</td>\n",
       "      <td>5150</td>\n",
       "      <td>4310.0</td>\n",
       "      <td>1</td>\n",
       "      <td>0</td>\n",
       "      <td>0</td>\n",
       "      <td>0</td>\n",
       "      <td>0</td>\n",
       "      <td>0</td>\n",
       "      <td>0</td>\n",
       "      <td>...</td>\n",
       "      <td>0</td>\n",
       "      <td>0</td>\n",
       "      <td>0</td>\n",
       "      <td>0</td>\n",
       "      <td>0</td>\n",
       "      <td>0</td>\n",
       "      <td>0</td>\n",
       "      <td>0</td>\n",
       "      <td>0</td>\n",
       "      <td>0</td>\n",
       "    </tr>\n",
       "    <tr>\n",
       "      <th>3</th>\n",
       "      <td>2010</td>\n",
       "      <td>5200</td>\n",
       "      <td>4200.0</td>\n",
       "      <td>1</td>\n",
       "      <td>0</td>\n",
       "      <td>0</td>\n",
       "      <td>0</td>\n",
       "      <td>0</td>\n",
       "      <td>0</td>\n",
       "      <td>0</td>\n",
       "      <td>...</td>\n",
       "      <td>0</td>\n",
       "      <td>0</td>\n",
       "      <td>0</td>\n",
       "      <td>0</td>\n",
       "      <td>0</td>\n",
       "      <td>0</td>\n",
       "      <td>0</td>\n",
       "      <td>0</td>\n",
       "      <td>0</td>\n",
       "      <td>0</td>\n",
       "    </tr>\n",
       "    <tr>\n",
       "      <th>4</th>\n",
       "      <td>1320</td>\n",
       "      <td>4050</td>\n",
       "      <td>3300.0</td>\n",
       "      <td>1</td>\n",
       "      <td>0</td>\n",
       "      <td>0</td>\n",
       "      <td>0</td>\n",
       "      <td>0</td>\n",
       "      <td>0</td>\n",
       "      <td>0</td>\n",
       "      <td>...</td>\n",
       "      <td>0</td>\n",
       "      <td>0</td>\n",
       "      <td>0</td>\n",
       "      <td>0</td>\n",
       "      <td>0</td>\n",
       "      <td>0</td>\n",
       "      <td>0</td>\n",
       "      <td>0</td>\n",
       "      <td>0</td>\n",
       "      <td>0</td>\n",
       "    </tr>\n",
       "    <tr>\n",
       "      <th>...</th>\n",
       "      <td>...</td>\n",
       "      <td>...</td>\n",
       "      <td>...</td>\n",
       "      <td>...</td>\n",
       "      <td>...</td>\n",
       "      <td>...</td>\n",
       "      <td>...</td>\n",
       "      <td>...</td>\n",
       "      <td>...</td>\n",
       "      <td>...</td>\n",
       "      <td>...</td>\n",
       "      <td>...</td>\n",
       "      <td>...</td>\n",
       "      <td>...</td>\n",
       "      <td>...</td>\n",
       "      <td>...</td>\n",
       "      <td>...</td>\n",
       "      <td>...</td>\n",
       "      <td>...</td>\n",
       "      <td>...</td>\n",
       "      <td>...</td>\n",
       "    </tr>\n",
       "    <tr>\n",
       "      <th>107290</th>\n",
       "      <td>2200</td>\n",
       "      <td>2300</td>\n",
       "      <td>2250.0</td>\n",
       "      <td>0</td>\n",
       "      <td>0</td>\n",
       "      <td>0</td>\n",
       "      <td>0</td>\n",
       "      <td>0</td>\n",
       "      <td>0</td>\n",
       "      <td>0</td>\n",
       "      <td>...</td>\n",
       "      <td>0</td>\n",
       "      <td>0</td>\n",
       "      <td>0</td>\n",
       "      <td>0</td>\n",
       "      <td>0</td>\n",
       "      <td>0</td>\n",
       "      <td>0</td>\n",
       "      <td>0</td>\n",
       "      <td>0</td>\n",
       "      <td>0</td>\n",
       "    </tr>\n",
       "    <tr>\n",
       "      <th>107291</th>\n",
       "      <td>2050</td>\n",
       "      <td>2600</td>\n",
       "      <td>2200.0</td>\n",
       "      <td>0</td>\n",
       "      <td>0</td>\n",
       "      <td>0</td>\n",
       "      <td>0</td>\n",
       "      <td>0</td>\n",
       "      <td>0</td>\n",
       "      <td>0</td>\n",
       "      <td>...</td>\n",
       "      <td>0</td>\n",
       "      <td>0</td>\n",
       "      <td>0</td>\n",
       "      <td>0</td>\n",
       "      <td>0</td>\n",
       "      <td>0</td>\n",
       "      <td>0</td>\n",
       "      <td>0</td>\n",
       "      <td>0</td>\n",
       "      <td>0</td>\n",
       "    </tr>\n",
       "    <tr>\n",
       "      <th>107292</th>\n",
       "      <td>2700</td>\n",
       "      <td>2875</td>\n",
       "      <td>2800.0</td>\n",
       "      <td>0</td>\n",
       "      <td>0</td>\n",
       "      <td>0</td>\n",
       "      <td>0</td>\n",
       "      <td>0</td>\n",
       "      <td>0</td>\n",
       "      <td>0</td>\n",
       "      <td>...</td>\n",
       "      <td>0</td>\n",
       "      <td>0</td>\n",
       "      <td>0</td>\n",
       "      <td>0</td>\n",
       "      <td>0</td>\n",
       "      <td>0</td>\n",
       "      <td>0</td>\n",
       "      <td>0</td>\n",
       "      <td>0</td>\n",
       "      <td>0</td>\n",
       "    </tr>\n",
       "    <tr>\n",
       "      <th>107293</th>\n",
       "      <td>2625</td>\n",
       "      <td>2875</td>\n",
       "      <td>2800.0</td>\n",
       "      <td>0</td>\n",
       "      <td>0</td>\n",
       "      <td>0</td>\n",
       "      <td>0</td>\n",
       "      <td>0</td>\n",
       "      <td>0</td>\n",
       "      <td>0</td>\n",
       "      <td>...</td>\n",
       "      <td>0</td>\n",
       "      <td>0</td>\n",
       "      <td>0</td>\n",
       "      <td>0</td>\n",
       "      <td>0</td>\n",
       "      <td>0</td>\n",
       "      <td>0</td>\n",
       "      <td>0</td>\n",
       "      <td>0</td>\n",
       "      <td>0</td>\n",
       "    </tr>\n",
       "    <tr>\n",
       "      <th>107294</th>\n",
       "      <td>2800</td>\n",
       "      <td>2890</td>\n",
       "      <td>2870.0</td>\n",
       "      <td>0</td>\n",
       "      <td>0</td>\n",
       "      <td>0</td>\n",
       "      <td>0</td>\n",
       "      <td>0</td>\n",
       "      <td>0</td>\n",
       "      <td>0</td>\n",
       "      <td>...</td>\n",
       "      <td>0</td>\n",
       "      <td>0</td>\n",
       "      <td>0</td>\n",
       "      <td>0</td>\n",
       "      <td>0</td>\n",
       "      <td>0</td>\n",
       "      <td>0</td>\n",
       "      <td>0</td>\n",
       "      <td>0</td>\n",
       "      <td>0</td>\n",
       "    </tr>\n",
       "  </tbody>\n",
       "</table>\n",
       "<p>107295 rows × 1527 columns</p>\n",
       "</div>"
      ],
      "text/plain": [
       "        min_price  max_price  modal_price  state_Andhra Pradesh  \\\n",
       "0            1350       4390       3100.0                     1   \n",
       "1            1390       4400       3200.0                     1   \n",
       "2            1460       5150       4310.0                     1   \n",
       "3            2010       5200       4200.0                     1   \n",
       "4            1320       4050       3300.0                     1   \n",
       "...           ...        ...          ...                   ...   \n",
       "107290       2200       2300       2250.0                     0   \n",
       "107291       2050       2600       2200.0                     0   \n",
       "107292       2700       2875       2800.0                     0   \n",
       "107293       2625       2875       2800.0                     0   \n",
       "107294       2800       2890       2870.0                     0   \n",
       "\n",
       "        state_Chattisgarh  state_Goa  state_Gujarat  state_Haryana  \\\n",
       "0                       0          0              0              0   \n",
       "1                       0          0              0              0   \n",
       "2                       0          0              0              0   \n",
       "3                       0          0              0              0   \n",
       "4                       0          0              0              0   \n",
       "...                   ...        ...            ...            ...   \n",
       "107290                  0          0              0              0   \n",
       "107291                  0          0              0              0   \n",
       "107292                  0          0              0              0   \n",
       "107293                  0          0              0              0   \n",
       "107294                  0          0              0              0   \n",
       "\n",
       "        state_Himachal Pradesh  state_Jammu and Kashmir  ...  \\\n",
       "0                            0                        0  ...   \n",
       "1                            0                        0  ...   \n",
       "2                            0                        0  ...   \n",
       "3                            0                        0  ...   \n",
       "4                            0                        0  ...   \n",
       "...                        ...                      ...  ...   \n",
       "107290                       0                        0  ...   \n",
       "107291                       0                        0  ...   \n",
       "107292                       0                        0  ...   \n",
       "107293                       0                        0  ...   \n",
       "107294                       0                        0  ...   \n",
       "\n",
       "        arrival_date_30/04/2020  arrival_date_30/05/2020  \\\n",
       "0                             0                        0   \n",
       "1                             0                        0   \n",
       "2                             0                        0   \n",
       "3                             0                        0   \n",
       "4                             0                        0   \n",
       "...                         ...                      ...   \n",
       "107290                        0                        0   \n",
       "107291                        0                        0   \n",
       "107292                        0                        0   \n",
       "107293                        0                        0   \n",
       "107294                        0                        0   \n",
       "\n",
       "        arrival_date_30/06/2020  arrival_date_30/07/2020  \\\n",
       "0                             0                        0   \n",
       "1                             0                        0   \n",
       "2                             0                        0   \n",
       "3                             0                        0   \n",
       "4                             0                        0   \n",
       "...                         ...                      ...   \n",
       "107290                        0                        0   \n",
       "107291                        0                        0   \n",
       "107292                        0                        0   \n",
       "107293                        0                        0   \n",
       "107294                        0                        0   \n",
       "\n",
       "        arrival_date_30/08/2020  arrival_date_31/01/2020  \\\n",
       "0                             0                        0   \n",
       "1                             0                        0   \n",
       "2                             0                        0   \n",
       "3                             0                        0   \n",
       "4                             0                        0   \n",
       "...                         ...                      ...   \n",
       "107290                        0                        0   \n",
       "107291                        0                        0   \n",
       "107292                        0                        0   \n",
       "107293                        0                        0   \n",
       "107294                        0                        0   \n",
       "\n",
       "        arrival_date_31/03/2020  arrival_date_31/05/2020  \\\n",
       "0                             0                        0   \n",
       "1                             0                        0   \n",
       "2                             0                        0   \n",
       "3                             0                        0   \n",
       "4                             0                        0   \n",
       "...                         ...                      ...   \n",
       "107290                        0                        0   \n",
       "107291                        0                        0   \n",
       "107292                        0                        0   \n",
       "107293                        0                        0   \n",
       "107294                        0                        0   \n",
       "\n",
       "        arrival_date_31/07/2020  arrival_date_31/08/2020  \n",
       "0                             0                        0  \n",
       "1                             0                        0  \n",
       "2                             0                        0  \n",
       "3                             0                        0  \n",
       "4                             0                        0  \n",
       "...                         ...                      ...  \n",
       "107290                        0                        0  \n",
       "107291                        0                        0  \n",
       "107292                        0                        0  \n",
       "107293                        0                        0  \n",
       "107294                        0                        0  \n",
       "\n",
       "[107295 rows x 1527 columns]"
      ]
     },
     "execution_count": 8,
     "metadata": {},
     "output_type": "execute_result"
    }
   ],
   "source": [
    "df=pd.get_dummies(df)\n",
    "df"
   ]
  },
  {
   "cell_type": "code",
   "execution_count": 9,
   "id": "c984697c",
   "metadata": {},
   "outputs": [],
   "source": [
    "x =df.loc[:,df.columns!='modal_price']"
   ]
  },
  {
   "cell_type": "code",
   "execution_count": 10,
   "id": "759095ea",
   "metadata": {},
   "outputs": [
    {
     "data": {
      "text/plain": [
       "(107295, 1526)"
      ]
     },
     "execution_count": 10,
     "metadata": {},
     "output_type": "execute_result"
    }
   ],
   "source": [
    "x.shape"
   ]
  },
  {
   "cell_type": "code",
   "execution_count": 11,
   "id": "375ec131",
   "metadata": {},
   "outputs": [],
   "source": [
    "y=df['modal_price']"
   ]
  },
  {
   "cell_type": "code",
   "execution_count": 12,
   "id": "638bae18",
   "metadata": {},
   "outputs": [
    {
     "data": {
      "text/plain": [
       "(107295,)"
      ]
     },
     "execution_count": 12,
     "metadata": {},
     "output_type": "execute_result"
    }
   ],
   "source": [
    "y.shape"
   ]
  },
  {
   "cell_type": "code",
   "execution_count": 13,
   "id": "a0f44f15",
   "metadata": {},
   "outputs": [],
   "source": [
    "x_train,x_test,y_train,y_test=train_test_split(x,y,test_size=0.2,random_state=0)"
   ]
  },
  {
   "cell_type": "code",
   "execution_count": 14,
   "id": "f39152f7",
   "metadata": {},
   "outputs": [
    {
     "data": {
      "text/html": [
       "<div>\n",
       "<style scoped>\n",
       "    .dataframe tbody tr th:only-of-type {\n",
       "        vertical-align: middle;\n",
       "    }\n",
       "\n",
       "    .dataframe tbody tr th {\n",
       "        vertical-align: top;\n",
       "    }\n",
       "\n",
       "    .dataframe thead th {\n",
       "        text-align: right;\n",
       "    }\n",
       "</style>\n",
       "<table border=\"1\" class=\"dataframe\">\n",
       "  <thead>\n",
       "    <tr style=\"text-align: right;\">\n",
       "      <th></th>\n",
       "      <th>min_price</th>\n",
       "      <th>max_price</th>\n",
       "      <th>state_Andhra Pradesh</th>\n",
       "      <th>state_Chattisgarh</th>\n",
       "      <th>state_Goa</th>\n",
       "      <th>state_Gujarat</th>\n",
       "      <th>state_Haryana</th>\n",
       "      <th>state_Himachal Pradesh</th>\n",
       "      <th>state_Jammu and Kashmir</th>\n",
       "      <th>state_Jharkhand</th>\n",
       "      <th>...</th>\n",
       "      <th>arrival_date_30/04/2020</th>\n",
       "      <th>arrival_date_30/05/2020</th>\n",
       "      <th>arrival_date_30/06/2020</th>\n",
       "      <th>arrival_date_30/07/2020</th>\n",
       "      <th>arrival_date_30/08/2020</th>\n",
       "      <th>arrival_date_31/01/2020</th>\n",
       "      <th>arrival_date_31/03/2020</th>\n",
       "      <th>arrival_date_31/05/2020</th>\n",
       "      <th>arrival_date_31/07/2020</th>\n",
       "      <th>arrival_date_31/08/2020</th>\n",
       "    </tr>\n",
       "  </thead>\n",
       "  <tbody>\n",
       "    <tr>\n",
       "      <th>51785</th>\n",
       "      <td>800</td>\n",
       "      <td>1300</td>\n",
       "      <td>0</td>\n",
       "      <td>0</td>\n",
       "      <td>0</td>\n",
       "      <td>0</td>\n",
       "      <td>0</td>\n",
       "      <td>0</td>\n",
       "      <td>0</td>\n",
       "      <td>0</td>\n",
       "      <td>...</td>\n",
       "      <td>0</td>\n",
       "      <td>0</td>\n",
       "      <td>0</td>\n",
       "      <td>0</td>\n",
       "      <td>0</td>\n",
       "      <td>0</td>\n",
       "      <td>0</td>\n",
       "      <td>0</td>\n",
       "      <td>0</td>\n",
       "      <td>0</td>\n",
       "    </tr>\n",
       "    <tr>\n",
       "      <th>63137</th>\n",
       "      <td>1200</td>\n",
       "      <td>1350</td>\n",
       "      <td>0</td>\n",
       "      <td>0</td>\n",
       "      <td>0</td>\n",
       "      <td>0</td>\n",
       "      <td>0</td>\n",
       "      <td>0</td>\n",
       "      <td>0</td>\n",
       "      <td>0</td>\n",
       "      <td>...</td>\n",
       "      <td>0</td>\n",
       "      <td>0</td>\n",
       "      <td>0</td>\n",
       "      <td>0</td>\n",
       "      <td>0</td>\n",
       "      <td>0</td>\n",
       "      <td>0</td>\n",
       "      <td>0</td>\n",
       "      <td>0</td>\n",
       "      <td>0</td>\n",
       "    </tr>\n",
       "    <tr>\n",
       "      <th>54316</th>\n",
       "      <td>1650</td>\n",
       "      <td>2050</td>\n",
       "      <td>0</td>\n",
       "      <td>0</td>\n",
       "      <td>0</td>\n",
       "      <td>0</td>\n",
       "      <td>0</td>\n",
       "      <td>0</td>\n",
       "      <td>0</td>\n",
       "      <td>0</td>\n",
       "      <td>...</td>\n",
       "      <td>0</td>\n",
       "      <td>0</td>\n",
       "      <td>0</td>\n",
       "      <td>0</td>\n",
       "      <td>0</td>\n",
       "      <td>0</td>\n",
       "      <td>0</td>\n",
       "      <td>0</td>\n",
       "      <td>0</td>\n",
       "      <td>0</td>\n",
       "    </tr>\n",
       "    <tr>\n",
       "      <th>89591</th>\n",
       "      <td>850</td>\n",
       "      <td>950</td>\n",
       "      <td>0</td>\n",
       "      <td>0</td>\n",
       "      <td>0</td>\n",
       "      <td>0</td>\n",
       "      <td>0</td>\n",
       "      <td>0</td>\n",
       "      <td>0</td>\n",
       "      <td>0</td>\n",
       "      <td>...</td>\n",
       "      <td>0</td>\n",
       "      <td>0</td>\n",
       "      <td>0</td>\n",
       "      <td>0</td>\n",
       "      <td>0</td>\n",
       "      <td>0</td>\n",
       "      <td>0</td>\n",
       "      <td>0</td>\n",
       "      <td>0</td>\n",
       "      <td>0</td>\n",
       "    </tr>\n",
       "    <tr>\n",
       "      <th>47324</th>\n",
       "      <td>1000</td>\n",
       "      <td>1200</td>\n",
       "      <td>0</td>\n",
       "      <td>0</td>\n",
       "      <td>0</td>\n",
       "      <td>0</td>\n",
       "      <td>0</td>\n",
       "      <td>0</td>\n",
       "      <td>0</td>\n",
       "      <td>0</td>\n",
       "      <td>...</td>\n",
       "      <td>0</td>\n",
       "      <td>0</td>\n",
       "      <td>0</td>\n",
       "      <td>0</td>\n",
       "      <td>0</td>\n",
       "      <td>0</td>\n",
       "      <td>0</td>\n",
       "      <td>0</td>\n",
       "      <td>0</td>\n",
       "      <td>0</td>\n",
       "    </tr>\n",
       "  </tbody>\n",
       "</table>\n",
       "<p>5 rows × 1526 columns</p>\n",
       "</div>"
      ],
      "text/plain": [
       "       min_price  max_price  state_Andhra Pradesh  state_Chattisgarh  \\\n",
       "51785        800       1300                     0                  0   \n",
       "63137       1200       1350                     0                  0   \n",
       "54316       1650       2050                     0                  0   \n",
       "89591        850        950                     0                  0   \n",
       "47324       1000       1200                     0                  0   \n",
       "\n",
       "       state_Goa  state_Gujarat  state_Haryana  state_Himachal Pradesh  \\\n",
       "51785          0              0              0                       0   \n",
       "63137          0              0              0                       0   \n",
       "54316          0              0              0                       0   \n",
       "89591          0              0              0                       0   \n",
       "47324          0              0              0                       0   \n",
       "\n",
       "       state_Jammu and Kashmir  state_Jharkhand  ...  arrival_date_30/04/2020  \\\n",
       "51785                        0                0  ...                        0   \n",
       "63137                        0                0  ...                        0   \n",
       "54316                        0                0  ...                        0   \n",
       "89591                        0                0  ...                        0   \n",
       "47324                        0                0  ...                        0   \n",
       "\n",
       "       arrival_date_30/05/2020  arrival_date_30/06/2020  \\\n",
       "51785                        0                        0   \n",
       "63137                        0                        0   \n",
       "54316                        0                        0   \n",
       "89591                        0                        0   \n",
       "47324                        0                        0   \n",
       "\n",
       "       arrival_date_30/07/2020  arrival_date_30/08/2020  \\\n",
       "51785                        0                        0   \n",
       "63137                        0                        0   \n",
       "54316                        0                        0   \n",
       "89591                        0                        0   \n",
       "47324                        0                        0   \n",
       "\n",
       "       arrival_date_31/01/2020  arrival_date_31/03/2020  \\\n",
       "51785                        0                        0   \n",
       "63137                        0                        0   \n",
       "54316                        0                        0   \n",
       "89591                        0                        0   \n",
       "47324                        0                        0   \n",
       "\n",
       "       arrival_date_31/05/2020  arrival_date_31/07/2020  \\\n",
       "51785                        0                        0   \n",
       "63137                        0                        0   \n",
       "54316                        0                        0   \n",
       "89591                        0                        0   \n",
       "47324                        0                        0   \n",
       "\n",
       "       arrival_date_31/08/2020  \n",
       "51785                        0  \n",
       "63137                        0  \n",
       "54316                        0  \n",
       "89591                        0  \n",
       "47324                        0  \n",
       "\n",
       "[5 rows x 1526 columns]"
      ]
     },
     "execution_count": 14,
     "metadata": {},
     "output_type": "execute_result"
    }
   ],
   "source": [
    "x_train.head()"
   ]
  },
  {
   "cell_type": "code",
   "execution_count": 15,
   "id": "0385b1ac",
   "metadata": {},
   "outputs": [
    {
     "data": {
      "text/plain": [
       "(85836, 1526)"
      ]
     },
     "execution_count": 15,
     "metadata": {},
     "output_type": "execute_result"
    }
   ],
   "source": [
    "x_train.shape"
   ]
  },
  {
   "cell_type": "code",
   "execution_count": 16,
   "id": "b28ba3dd",
   "metadata": {},
   "outputs": [
    {
     "data": {
      "text/plain": [
       "(85836,)"
      ]
     },
     "execution_count": 16,
     "metadata": {},
     "output_type": "execute_result"
    }
   ],
   "source": [
    "y_train.shape"
   ]
  },
  {
   "cell_type": "code",
   "execution_count": 17,
   "id": "d99662e7",
   "metadata": {},
   "outputs": [
    {
     "data": {
      "text/plain": [
       "(21459, 1526)"
      ]
     },
     "execution_count": 17,
     "metadata": {},
     "output_type": "execute_result"
    }
   ],
   "source": [
    "x_test.shape"
   ]
  },
  {
   "cell_type": "code",
   "execution_count": 18,
   "id": "48b0c344",
   "metadata": {},
   "outputs": [
    {
     "data": {
      "text/plain": [
       "(21459,)"
      ]
     },
     "execution_count": 18,
     "metadata": {},
     "output_type": "execute_result"
    }
   ],
   "source": [
    "y_test.shape"
   ]
  },
  {
   "cell_type": "code",
   "execution_count": 19,
   "id": "ba8112cc",
   "metadata": {},
   "outputs": [],
   "source": [
    "model=LinearRegression().fit(x_train,y_train)"
   ]
  },
  {
   "cell_type": "code",
   "execution_count": 20,
   "id": "fc3a4f14",
   "metadata": {},
   "outputs": [
    {
     "data": {
      "text/plain": [
       "99.22907912699354"
      ]
     },
     "execution_count": 20,
     "metadata": {},
     "output_type": "execute_result"
    }
   ],
   "source": [
    "model.score(x_test,y_test)*100"
   ]
  },
  {
   "cell_type": "code",
   "execution_count": 21,
   "id": "e56ebfb7",
   "metadata": {},
   "outputs": [
    {
     "data": {
      "text/plain": [
       "array([ 909.9731052 , 1844.04851405, 1300.02394832, ..., 1076.85254649,\n",
       "       2339.58816277, 2725.96690689])"
      ]
     },
     "execution_count": 21,
     "metadata": {},
     "output_type": "execute_result"
    }
   ],
   "source": [
    "model.predict(x_test)"
   ]
  },
  {
   "cell_type": "code",
   "execution_count": 30,
   "id": "658e9bc8",
   "metadata": {},
   "outputs": [
    {
     "data": {
      "text/plain": [
       "['linear_regression_model.pkl']"
      ]
     },
     "execution_count": 30,
     "metadata": {},
     "output_type": "execute_result"
    }
   ],
   "source": [
    "import joblib\n",
    "joblib.dump(model, 'linear_regression_model.pkl')\n"
   ]
  },
  {
   "cell_type": "code",
   "execution_count": 22,
   "id": "2bce9e6c",
   "metadata": {},
   "outputs": [],
   "source": []
  },
  {
   "cell_type": "code",
   "execution_count": 23,
   "id": "74346539",
   "metadata": {},
   "outputs": [
    {
     "name": "stdout",
     "output_type": "stream",
     "text": [
      "Mean Squared Error: 14200.06873852463\n"
     ]
    }
   ],
   "source": []
  },
  {
   "cell_type": "code",
   "execution_count": 24,
   "id": "b33aaff6",
   "metadata": {},
   "outputs": [
    {
     "name": "stdout",
     "output_type": "stream",
     "text": [
      "Accuracy Score: 0.9935231997329751\n"
     ]
    }
   ],
   "source": []
  },
  {
   "cell_type": "code",
   "execution_count": 25,
   "id": "d7f509a7",
   "metadata": {},
   "outputs": [
    {
     "name": "stdout",
     "output_type": "stream",
     "text": [
      "Range of modal_price: 21980.0\n"
     ]
    }
   ],
   "source": []
  },
  {
   "cell_type": "code",
   "execution_count": 28,
   "id": "235b397b",
   "metadata": {},
   "outputs": [
    {
     "data": {
      "text/plain": [
       "21459"
      ]
     },
     "execution_count": 28,
     "metadata": {},
     "output_type": "execute_result"
    }
   ],
   "source": []
  },
  {
   "cell_type": "code",
   "execution_count": 29,
   "id": "e42d854b",
   "metadata": {},
   "outputs": [
    {
     "data": {
      "text/plain": [
       "107295"
      ]
     },
     "execution_count": 29,
     "metadata": {},
     "output_type": "execute_result"
    }
   ],
   "source": []
  },
  {
   "cell_type": "code",
   "execution_count": null,
   "id": "b45d8f64",
   "metadata": {},
   "outputs": [],
   "source": []
  },
  {
   "cell_type": "code",
   "execution_count": null,
   "id": "4c955bf8",
   "metadata": {},
   "outputs": [],
   "source": []
  },
  {
   "cell_type": "code",
   "execution_count": null,
   "id": "cd42d22a",
   "metadata": {},
   "outputs": [],
   "source": []
  },
  {
   "cell_type": "code",
   "execution_count": null,
   "id": "f9d8d48e",
   "metadata": {},
   "outputs": [],
   "source": []
  },
  {
   "cell_type": "code",
   "execution_count": null,
   "id": "28c99fa6",
   "metadata": {},
   "outputs": [],
   "source": []
  },
  {
   "cell_type": "code",
   "execution_count": null,
   "id": "65bfbcda",
   "metadata": {},
   "outputs": [],
   "source": []
  },
  {
   "cell_type": "code",
   "execution_count": null,
   "id": "c90fbeb5",
   "metadata": {},
   "outputs": [],
   "source": []
  },
  {
   "cell_type": "code",
   "execution_count": null,
   "id": "ccac8484",
   "metadata": {},
   "outputs": [],
   "source": []
  }
 ],
 "metadata": {
  "kernelspec": {
   "display_name": "Python 3 (ipykernel)",
   "language": "python",
   "name": "python3"
  },
  "language_info": {
   "codemirror_mode": {
    "name": "ipython",
    "version": 3
   },
   "file_extension": ".py",
   "mimetype": "text/x-python",
   "name": "python",
   "nbconvert_exporter": "python",
   "pygments_lexer": "ipython3",
   "version": "3.11.1"
  }
 },
 "nbformat": 4,
 "nbformat_minor": 5
}
